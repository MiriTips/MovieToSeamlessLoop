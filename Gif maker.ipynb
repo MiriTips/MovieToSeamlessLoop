{
 "cells": [
  {
   "cell_type": "code",
   "execution_count": null,
   "metadata": {},
   "outputs": [],
   "source": [
    "%matplotlib notebook\n",
    "from matplotlib import pyplot as plt\n",
    "from scipy.spatial.distance import pdist, squareform\n",
    "\n",
    "import imageio\n",
    "import cv2\n",
    "import numpy as np\n",
    "from PIL import Image, ImageSequence, ImageChops\n",
    "from io import BytesIO\n",
    "from imageio.core import CannotReadFrameError\n",
    "\n",
    "from ipywidgets import interact, interactive, fixed\n",
    "import ipywidgets as widgets\n",
    "\n",
    "import os\n",
    "import sqlite3\n",
    "from tempfile import TemporaryDirectory"
   ]
  },
  {
   "cell_type": "code",
   "execution_count": null,
   "metadata": {},
   "outputs": [],
   "source": [
    "video_to_load = r\"your_vid_here.mp4\""
   ]
  },
  {
   "cell_type": "markdown",
   "metadata": {},
   "source": [
    "# Load video/gif"
   ]
  },
  {
   "cell_type": "markdown",
   "metadata": {},
   "source": [
    "## First set up the database"
   ]
  },
  {
   "cell_type": "code",
   "execution_count": null,
   "metadata": {},
   "outputs": [],
   "source": [
    "test = TemporaryDirectory()"
   ]
  },
  {
   "cell_type": "code",
   "execution_count": null,
   "metadata": {},
   "outputs": [],
   "source": [
    "os.path.join(test.name, \"temp.db\")"
   ]
  },
  {
   "cell_type": "code",
   "execution_count": null,
   "metadata": {},
   "outputs": [],
   "source": [
    "#Create empty database for video\n",
    "conn = sqlite3.connect(os.path.join(test.name, \"temp.db\"))\n",
    "with conn:\n",
    "    conn.execute(\"DROP TABLE IF EXISTS image\")\n",
    "    conn.execute(\"\"\"\n",
    "        CREATE TABLE IF NOT EXISTS image(v BLOB NOT NULL, -- video image frames\n",
    "                                         f INTEGER NOT NULL, -- frame number\n",
    "                                         n INTEGER NOT NULL DEFAULT 0, -- undoable actions\n",
    "                                         UNIQUE(f, n) ON CONFLICT REPLACE\n",
    "                                        )\n",
    "        \"\"\")\n",
    "    conn.execute(\"CREATE INDEX IF NOT EXISTS frame ON image(f)\")"
   ]
  },
  {
   "cell_type": "code",
   "execution_count": null,
   "metadata": {},
   "outputs": [],
   "source": [
    "def to_db(image: np.ndarray, frame: int, edits: int=0):\n",
    "    v = cv2.imencode('.jpg',cv2.cvtColor(image, cv2.COLOR_RGBA2BGR))[1].tostring()\n",
    "#         # JPEG at the default .95 is sufficient for my purposes.\n",
    "#         # If you want better, you can pass in quality parameters to the imencode call, or switch formats.\n",
    "    with conn:\n",
    "        conn.execute(\"INSERT INTO image VALUES (?, ?, ?)\", (v, frame, edits))\n",
    "        \n",
    "def to_raw(image: np.ndarray, frame: int, edits: int):\n",
    "    out = BytesIO()\n",
    "    np.save(out, image)\n",
    "    out.seek(0)\n",
    "    with conn:\n",
    "        conn.execute(\"INSERT INTO image VALUES (?, ?, ?)\", (out.read(), frame, edits))#.encode('zlib'), frame, edits))"
   ]
  },
  {
   "cell_type": "code",
   "execution_count": null,
   "metadata": {},
   "outputs": [],
   "source": [
    "def from_db(frame: int, edits=None) -> bytes:\n",
    "    if edits is None:\n",
    "        edits = \"(SELECT MAX(n) FROM image)\"\n",
    "    return conn.execute(f\"SELECT v FROM image WHERE f=? and n={edits}\",\n",
    "                     (frame,)).fetchone()[0]\n",
    "\n",
    "def from_raw(frame: int, edits: int) -> np.ndarray:\n",
    "    out = BytesIO(conn.execute(f\"SELECT v FROM image WHERE f=? and n=?\",\n",
    "                               (frame, edits)).fetchone()[0])\n",
    "    out.seek(0)\n",
    "    out = BytesIO(out.read())#.decode('zlib'))\n",
    "    return np.load(out)\n",
    "\n",
    "def slice_db(frames=None, edits=None):\n",
    "    if edits is None:\n",
    "        edits = \"(SELECT MAX(n) FROM image)\"\n",
    "    if frames is None:\n",
    "        return conn.execute(f\"SELECT v, f, n FROM image WHERE n={edits}\").fetchall()\n",
    "    return conn.execute(f\"SELECT v, f, n FROM image WHERE f>=? and f<? and n={edits}\",\n",
    "                     (frame[0], frame[1])).fetchall()\n",
    "\n",
    "def as_array(byte: bytes) -> np.ndarray:\n",
    "    return cv2.cvtColor(cv2.imdecode(np.frombuffer(byte, np.uint8), cv2.IMREAD_ANYCOLOR), cv2.COLOR_RGBA2BGR)"
   ]
  },
  {
   "cell_type": "markdown",
   "metadata": {},
   "source": [
    "## Database recovery on crash"
   ]
  },
  {
   "cell_type": "code",
   "execution_count": null,
   "metadata": {},
   "outputs": [],
   "source": [
    "database_to_recover = r'old_path_here'"
   ]
  },
  {
   "cell_type": "code",
   "execution_count": null,
   "metadata": {},
   "outputs": [],
   "source": [
    "conn = sqlite3.connect(database_to_recover)"
   ]
  },
  {
   "cell_type": "code",
   "execution_count": null,
   "metadata": {},
   "outputs": [],
   "source": [
    "fps = 30"
   ]
  },
  {
   "cell_type": "markdown",
   "metadata": {},
   "source": [
    "## Load"
   ]
  },
  {
   "cell_type": "code",
   "execution_count": null,
   "metadata": {
    "scrolled": true
   },
   "outputs": [],
   "source": [
    "try:\n",
    "    if video_to_load[:5] ==\".webp\":\n",
    "        reader = ImageSequence.Iterator(Image.open(video_to_load))\n",
    "        fps = 30 # reader.get_meta_data()['fps'] # REVIEW: UNKNOWN?!\n",
    "    else:\n",
    "        if video_to_load[:4] == \".gif\":\n",
    "            reader = imageio.get_reader(video_to_load)\n",
    "        else:\n",
    "            reader = imageio.get_reader(video_to_load, 'ffmpeg')\n",
    "        fps = reader.get_meta_data()['fps']\n",
    "    for i,im in enumerate(reader):\n",
    "        to_db(np.array(im), i)\n",
    "        #print(i*100/len(reader), end='%                      \\r')\n",
    "        print(i, end='                      \\r')\n",
    "    print(\"100%                      \")\n",
    "except CannotReadFrameError:\n",
    "    print(\"Read\", i, \"of\", len(reader), \"frames. This may be enough for what we want.\")"
   ]
  },
  {
   "cell_type": "code",
   "execution_count": null,
   "metadata": {},
   "outputs": [],
   "source": [
    "orig_len = conn.execute(\"SELECT COUNT(DISTINCT f) FROM image\").fetchone()[0]\n",
    "orig_len, fps"
   ]
  },
  {
   "cell_type": "markdown",
   "metadata": {},
   "source": [
    "# Inspect for duplicates (optional)"
   ]
  },
  {
   "cell_type": "code",
   "execution_count": null,
   "metadata": {},
   "outputs": [],
   "source": [
    "# A few of my videos got artificially upsampled with duplicate frames. No idea why.\n",
    "# It's pretty uniform, so this is a sufficient fix.\n",
    "source = [f for f, in conn.execute(f\"SELECT f FROM image\").fetchall()]\n",
    "prv = from_db(0)\n",
    "remove = []\n",
    "for i in source:\n",
    "    nxt = from_db(i)\n",
    "    if np.all(prv==nxt):\n",
    "        remove.append(i)\n",
    "    prv = nxt\n",
    "for i in remove:\n",
    "    conn.execute(\"DELETE FROM image WHERE f=?\", (i,))\n",
    "conn.commit()"
   ]
  },
  {
   "cell_type": "code",
   "execution_count": null,
   "metadata": {},
   "outputs": [],
   "source": [
    "# Update the fps for when we write it back.\n",
    "deduplicated_len = conn.execute(\"SELECT COUNT(DISTINCT f) FROM image\").fetchone()[0]\n",
    "deduplicated_fps = deduplicated_len*fps/orig_len\n",
    "orig_fps, fps = fps, deduplicated_fps\n",
    "deduplicated_len, deduplicated_fps"
   ]
  },
  {
   "cell_type": "markdown",
   "metadata": {},
   "source": [
    "# Trim video to relevant frames\n",
    "I recommend leaving a few past the section where a loop is to be searched for."
   ]
  },
  {
   "cell_type": "code",
   "execution_count": null,
   "metadata": {
    "scrolled": false
   },
   "outputs": [],
   "source": [
    "source = [f for f, in conn.execute(f\"SELECT f FROM image WHERE n=(SELECT MAX(n) FROM image)\").fetchall()]\n",
    "show = widgets.Image(value=from_db(source[0]))\n",
    "play = widgets.Play(\n",
    "    interval=1/fps,\n",
    "    value=0,\n",
    "    min=0,\n",
    "    max=len(source)-1,\n",
    "    step=1,\n",
    "    description=\"Press play\",\n",
    "    disabled=False\n",
    ")\n",
    "slider = widgets.IntSlider(min=0, max=len(source)-1)\n",
    "widgets.jslink((play, 'value'), (slider, 'value'))\n",
    "def load_frame(change):\n",
    "    show.value = from_db(source[change['new']])\n",
    "slider.observe(load_frame, names='value')\n",
    "control = widgets.HBox([play, slider])\n",
    "#widgets.VBox([show, control])\n",
    "display(show)\n",
    "display(control)\n",
    "start = widgets.IntSlider(min=0, max=len(source)-1, step=1, value=0)\n",
    "end = widgets.IntSlider(min=0.0, max=len(source)-1, step=1, value=len(source)-1)\n",
    "time_step = widgets.FloatSlider(min=0.0, max=1.0, step=0.01, value=1/fps)\n",
    "@interact(start=start, end=end, time_step=time_step)\n",
    "def f(start, end, time_step):\n",
    "    play.min = start\n",
    "    play.max = end\n",
    "    play.interval = time_step*1000"
   ]
  },
  {
   "cell_type": "code",
   "execution_count": null,
   "metadata": {},
   "outputs": [],
   "source": [
    "[source[play.min], source[play.max]+1]"
   ]
  },
  {
   "cell_type": "code",
   "execution_count": null,
   "metadata": {},
   "outputs": [],
   "source": [
    "play.min, play.max"
   ]
  },
  {
   "cell_type": "code",
   "execution_count": null,
   "metadata": {},
   "outputs": [],
   "source": [
    "with conn:\n",
    "    conn.execute(\"\"\"\n",
    "        INSERT INTO image(v, f, n)\n",
    "        SELECT v, f, n+1 FROM image\n",
    "        WHERE f>=? and f<? and n=(SELECT MAX(n) FROM image)\n",
    "    \"\"\", [source[play.min], source[play.max]+1])"
   ]
  },
  {
   "cell_type": "markdown",
   "metadata": {},
   "source": [
    "# Crop (optional)"
   ]
  },
  {
   "cell_type": "code",
   "execution_count": null,
   "metadata": {},
   "outputs": [],
   "source": [
    "# Get 100 frames evenly throughout the most recent edit of the video.\n",
    "# Average them together to get the general image gist to display.\n",
    "# Draw average with a crop-to box that has widget controls.\n",
    "# Apply. (Kills widgets)\n",
    "#TODO!"
   ]
  },
  {
   "cell_type": "markdown",
   "metadata": {},
   "source": [
    "# AFTER getting the indices correct above, run the below to look for loops"
   ]
  },
  {
   "cell_type": "code",
   "execution_count": null,
   "metadata": {},
   "outputs": [],
   "source": [
    "source = [f for f, in conn.execute(f\"SELECT f FROM image WHERE n=(SELECT MAX(n) FROM image)\").fetchall()]"
   ]
  },
  {
   "cell_type": "code",
   "execution_count": null,
   "metadata": {},
   "outputs": [],
   "source": [
    "conn.execute(\"DELETE FROM image WHERE n=-1 AND f NOT IN (SELECT f FROM image WHERE n=(SELECT MAX(n) FROM image))\")\n",
    "downsize_shape = (100, 100)\n",
    "# -1 is the downsized temp images for now.\n",
    "for v, f, _ in slice_db():\n",
    "    print(f, end='\\r')\n",
    "    to_db(np.array(Image.open(BytesIO(v)).resize(downsize_shape)), f, -1)"
   ]
  },
  {
   "cell_type": "code",
   "execution_count": null,
   "metadata": {},
   "outputs": [],
   "source": [
    "images_downsized = [as_array(im) for im, in conn.execute(f\"SELECT v FROM image WHERE n=-1\").fetchall()]\n",
    "differences = pdist(np.reshape(images_downsized, [len(images_downsized), -1]))"
   ]
  },
  {
   "cell_type": "code",
   "execution_count": null,
   "metadata": {},
   "outputs": [],
   "source": [
    "# Attempt to line up two frames worth of matching.\n",
    "test = squareform(differences)\n",
    "test[1:, 1:] *= test[:-1, :-1]\n",
    "test[0, :] = 0\n",
    "test[:, 0] = 0\n",
    "# Suppress local non-minima\n",
    "result = test.copy()\n",
    "result[:-1][test[:-1] > test[1:]] = 0\n",
    "result[1:][test[:-1] < test[1:]] = 0\n",
    "result[:,:-1][test[:,:-1] > test[:,1:]] = 0\n",
    "result[:,1:][test[:,:-1] < test[:,1:]] = 0\n",
    "plt.figure()\n",
    "plt.imshow(result)"
   ]
  },
  {
   "cell_type": "code",
   "execution_count": null,
   "metadata": {},
   "outputs": [],
   "source": [
    "(result!=0).sum()"
   ]
  },
  {
   "cell_type": "code",
   "execution_count": null,
   "metadata": {},
   "outputs": [],
   "source": [
    "# Trim suggestions to be between the below parameters (Set them how you want it)\n",
    "max_gif_len = 100 # max: trimmed length\n",
    "min_gif_len = 10 # min: 1 (not suggested)\n",
    "mask = np.array([[min_gif_len<j-i<max_gif_len for j in range(len(source))] for i in range(len(source))])\n",
    "result_trimmed = result.copy()*mask\n",
    "plt.imshow(result_trimmed)"
   ]
  },
  {
   "cell_type": "code",
   "execution_count": null,
   "metadata": {},
   "outputs": [],
   "source": [
    "# (OPTIONAL)\n",
    "# This weights the loop by how much change is in the inbetween frames.\n",
    "experimental = squareform(differences)\n",
    "mask = np.array([[j>=i for j in range(len(source))] for i in range(len(source))])\n",
    "experimental = experimental*mask\n",
    "experimental = 1+np.maximum.accumulate(experimental, axis=1)\n",
    "result_trimmed /= experimental\n",
    "plt.imshow(result_trimmed)"
   ]
  },
  {
   "cell_type": "code",
   "execution_count": null,
   "metadata": {},
   "outputs": [],
   "source": [
    "# Pull out the best match and try it.\n",
    "nonzeros = np.nonzero(result_trimmed)\n",
    "local_mins = result_trimmed[nonzeros]\n",
    "minimum_change = np.argmin(local_mins)\n",
    "nonzeros[0][minimum_change], nonzeros[1][minimum_change]"
   ]
  },
  {
   "cell_type": "code",
   "execution_count": null,
   "metadata": {},
   "outputs": [],
   "source": [
    "nonzeros"
   ]
  },
  {
   "cell_type": "markdown",
   "metadata": {},
   "source": [
    "# Denoise"
   ]
  },
  {
   "cell_type": "markdown",
   "metadata": {},
   "source": [
    "## Spatial denoising (probably run first):"
   ]
  },
  {
   "cell_type": "code",
   "execution_count": null,
   "metadata": {},
   "outputs": [],
   "source": [
    "edit_current = conn.execute(f\"SELECT MAX(n) FROM image\").fetchone()[0]\n",
    "edit_next = edit_current + 1\n",
    "source = [f for f, in conn.execute(f\"SELECT f FROM image WHERE n=(SELECT MAX(n) FROM image)\").fetchall()]"
   ]
  },
  {
   "cell_type": "code",
   "execution_count": null,
   "metadata": {
    "scrolled": false
   },
   "outputs": [],
   "source": [
    "source = [f for f, in conn.execute(f\"SELECT f FROM image WHERE n=(SELECT MAX(n) FROM image)\").fetchall()]\n",
    "show = widgets.Image(value=from_db(source[0]))\n",
    "play = widgets.Play(\n",
    "    interval=1/fps,\n",
    "    value=0,\n",
    "    min=0,\n",
    "    max=len(source)-1,\n",
    "    step=1,\n",
    "    description=\"Press play\",\n",
    "    disabled=False\n",
    ")\n",
    "slider = widgets.IntSlider(min=0, max=len(source)-1)\n",
    "widgets.jslink((play, 'value'), (slider, 'value'))\n",
    "control = widgets.HBox([play, slider])\n",
    "#widgets.VBox([show, control])\n",
    "display(show)\n",
    "display(control)\n",
    "filterRadius = widgets.IntSlider(min=0, max=100, step=1, value=2)\n",
    "sigmaColor = widgets.IntSlider(min=0, max=255, step=1, value=75)\n",
    "sigmaDist = widgets.IntSlider(min=0.0, max=255, step=1, value=75)\n",
    "time_step = widgets.FloatSlider(min=0.0, max=1.0, step=0.01, value=1/fps)\n",
    "def load_frame(change):\n",
    "    im = cv2.bilateralFilter(as_array(from_db(source[slider.value], edit_current)),\n",
    "                             filterRadius.value*2+1, sigmaColor.value, sigmaDist.value)\n",
    "    show.value = cv2.imencode('.jpg', im.astype(np.uint8)[...,::-1])[1].tostring()\n",
    "@interact(filterRadius=filterRadius, sigmaColor=sigmaColor, sigmaDist=sigmaDist, time_step=time_step)\n",
    "def f(filterRadius, sigmaColor, sigmaDist, time_step):\n",
    "    play.interval = time_step*1000\n",
    "    load_frame(None)\n",
    "slider.observe(load_frame, names='value')"
   ]
  },
  {
   "cell_type": "code",
   "execution_count": null,
   "metadata": {
    "scrolled": true
   },
   "outputs": [],
   "source": [
    "# https://en.wikipedia.org/wiki/Bilateral_filter#Definition\n",
    "print(filterRadius.value*2+1, sigmaColor.value, sigmaDist.value)\n",
    "for f in source:\n",
    "    print(\"Denoising frame:\", f, end='\\r')\n",
    "    denoised = cv2.bilateralFilter(as_array(from_db(f, edit_current)),\n",
    "                                   filterRadius.value*2+1, sigmaColor.value, sigmaDist.value)\n",
    "    to_db(denoised, f, edit_next)"
   ]
  },
  {
   "cell_type": "markdown",
   "metadata": {},
   "source": [
    "### This should give you a decent value to set for the sigmaColor both above and below\n",
    "but requires running the above first, so you may want to undo it (Undo is under the Temporal filter on this page)"
   ]
  },
  {
   "cell_type": "code",
   "execution_count": null,
   "metadata": {},
   "outputs": [],
   "source": [
    "compare_edit = conn.execute(f\"SELECT MAX(n) FROM image\").fetchone()[0]\n",
    "compare_to = compare_edit - 1\n",
    "source = [f for f, in conn.execute(f\"SELECT f FROM image WHERE n=?\", [compare_edit]).fetchall()]\n",
    "dffs = np.array([np.abs(as_array(from_db(f, compare_edit)).astype(float) - as_array(from_db(f, compare_to)).astype(float)) for f in source])"
   ]
  },
  {
   "cell_type": "code",
   "execution_count": null,
   "metadata": {},
   "outputs": [],
   "source": [
    "noise_thresh = np.mean(dffs) + 5*np.std(dffs)"
   ]
  },
  {
   "cell_type": "code",
   "execution_count": null,
   "metadata": {},
   "outputs": [],
   "source": [
    "noise_thresh"
   ]
  },
  {
   "cell_type": "markdown",
   "metadata": {},
   "source": [
    "## Temporal filter (probably run second):"
   ]
  },
  {
   "cell_type": "code",
   "execution_count": null,
   "metadata": {},
   "outputs": [],
   "source": [
    "edit_current = conn.execute(f\"SELECT MAX(n) FROM image\").fetchone()[0]\n",
    "edit_next = edit_current + 1\n",
    "source = [f for f, in conn.execute(f\"SELECT f FROM image WHERE n=(SELECT MAX(n) FROM image)\").fetchall()]"
   ]
  },
  {
   "cell_type": "code",
   "execution_count": null,
   "metadata": {
    "scrolled": false
   },
   "outputs": [],
   "source": [
    "source = [f for f, in conn.execute(f\"SELECT f FROM image WHERE n=(SELECT MAX(n) FROM image)\").fetchall()]\n",
    "show = widgets.Image(value=from_db(source[0]))\n",
    "play = widgets.Play(\n",
    "    interval=1/fps,\n",
    "    value=0,\n",
    "    min=0,\n",
    "    max=len(source)-1,\n",
    "    step=1,\n",
    "    description=\"Press play\",\n",
    "    disabled=False\n",
    ")\n",
    "slider = widgets.IntSlider(min=0, max=len(source)-1)\n",
    "widgets.jslink((play, 'value'), (slider, 'value'))\n",
    "control = widgets.HBox([play, slider])\n",
    "#widgets.VBox([show, control])\n",
    "display(show)\n",
    "display(control)\n",
    "sigmaColor2 = widgets.IntSlider(min=0, max=255, step=1, value=75)\n",
    "sigmaTime = widgets.IntSlider(min=0.0, max=255, step=1, value=75)\n",
    "time_step = widgets.FloatSlider(min=0.0, max=1.0, step=0.01, value=1/fps)\n",
    "def load_frame(change):\n",
    "    prv = as_array(from_db(source[(slider.value-1)%len(source)], edit_current))\n",
    "    cur = as_array(from_db(source[(slider.value)], edit_current))\n",
    "    nxt = as_array(from_db(source[(slider.value+1)%len(source)], edit_current))\n",
    "    weight_next = np.exp(-1/(2*sigmaTime.value**2) - np.square(nxt.astype(float)-cur.astype(float))/(2*sigmaColor2.value**2))\n",
    "    weight_prev = np.exp(-1/(2*sigmaTime.value**2) - np.square(prv.astype(float)-cur.astype(float))/(2*sigmaColor2.value**2))\n",
    "    out = (nxt*weight_next + cur + prv*weight_prev) / (1 + weight_next + weight_prev)\n",
    "    show.value = cv2.imencode(\".jpg\", out[...,::-1])[1].tostring()\n",
    "@interact(sigmaColor2=sigmaColor2, sigmaTime=sigmaTime, time_step=time_step)\n",
    "def f(sigmaColor2, sigmaTime, time_step):\n",
    "    play.interval = time_step*1000\n",
    "    load_frame(None)\n",
    "slider.observe(load_frame, names='value')"
   ]
  },
  {
   "cell_type": "code",
   "execution_count": null,
   "metadata": {
    "scrolled": false
   },
   "outputs": [],
   "source": [
    "# https://en.wikipedia.org/wiki/Bilateral_filter#Definition\n",
    "# Single dimension version, with time being the dimension.\n",
    "first = None\n",
    "second = None\n",
    "prev = None\n",
    "pprv = None\n",
    "dff = None\n",
    "show = widgets.Image(value=from_db(source[0], edit_current))\n",
    "display(show)\n",
    "for f in source:\n",
    "    print(f, end='\\r')\n",
    "    cur = as_array(from_db(f, edit_current))\n",
    "    if first is None:\n",
    "        first = cur, f\n",
    "    elif second is None:\n",
    "        second = cur, f\n",
    "    if pprv is not None:\n",
    "        #exp(-time_dist/(2*sigmaTime.value^2) - color_dist/(2*sigmaColor2.value^2))\n",
    "        #weight_cur = 1\n",
    "        weight_next = np.exp(-1/(2*sigmaTime.value**2) - np.square(cur.astype(float)-prev[0].astype(float))/(2*sigmaColor2.value**2))\n",
    "        weight_prev = np.exp(-1/(2*sigmaTime.value**2) - np.square(pprv[0].astype(float)-prev[0].astype(float))/(2*sigmaColor2.value**2))\n",
    "        out = (cur*weight_next + prev[0] + pprv[0]*weight_prev) / (1 + weight_next + weight_prev)\n",
    "        show.value = cv2.imencode(\".jpg\", out[...,::-1])[1].tostring()\n",
    "        to_db(out.astype(np.uint8), prev[1], edit_next)\n",
    "    pprv = prev\n",
    "    prev = cur, f\n",
    "\n",
    "weight_next = np.exp(-1/(2*sigmaTime.value**2) - np.square(first[0].astype(float)-prev[0].astype(float))/(2*sigmaColor2.value**2))\n",
    "weight_prev = np.exp(-1/(2*sigmaTime.value**2) - np.square(pprv[0].astype(float)-prev[0].astype(float))/(2*sigmaColor2.value**2))\n",
    "out = (first[0]*weight_next + prev[0] + pprv[0]*weight_prev) / (1 + weight_next + weight_prev)\n",
    "show.value = cv2.imencode(\".jpg\", out[...,::-1])[1].tostring()\n",
    "to_db(out.astype(np.uint8), prev[1], edit_next)\n",
    "pprv = prev\n",
    "prev = first\n",
    "\n",
    "weight_next = np.exp(-1/(2*sigmaTime.value**2) - np.square(second[0].astype(float)-prev[0].astype(float))/(2*sigmaColor2.value**2))\n",
    "weight_prev = np.exp(-1/(2*sigmaTime.value**2) - np.square(pprv[0].astype(float)-prev[0].astype(float))/(2*sigmaColor2.value**2))\n",
    "out = (second[0]*weight_next + prev[0] + pprv[0]*weight_prev) / (1 + weight_next + weight_prev)\n",
    "show.value = cv2.imencode(\".jpg\", out[...,::-1])[1].tostring()\n",
    "to_db(out.astype(np.uint8), prev[1], edit_next)\n",
    "pprv = prev\n",
    "prev = first"
   ]
  },
  {
   "cell_type": "markdown",
   "metadata": {},
   "source": [
    "# Undo"
   ]
  },
  {
   "cell_type": "code",
   "execution_count": null,
   "metadata": {
    "scrolled": true
   },
   "outputs": [],
   "source": [
    "conn.execute(f\"DELETE FROM image WHERE n=(SELECT MAX(n) FROM image)\")"
   ]
  },
  {
   "cell_type": "code",
   "execution_count": null,
   "metadata": {},
   "outputs": [],
   "source": [
    "conn.execute(\"SELECT MAX(n), COUNT(f) FROM image WHERE n=(SELECT MAX(n) FROM image)\").fetchone()"
   ]
  },
  {
   "cell_type": "markdown",
   "metadata": {},
   "source": [
    "## This can undo the undo if you do it before doing anything else\n",
    "but it will only recover back to whatever you had before you ran any undos in that time period, not selectively one redo at a time."
   ]
  },
  {
   "cell_type": "code",
   "execution_count": null,
   "metadata": {},
   "outputs": [],
   "source": [
    "conn.rollback()"
   ]
  },
  {
   "cell_type": "markdown",
   "metadata": {},
   "source": [
    "# Examine results"
   ]
  },
  {
   "cell_type": "code",
   "execution_count": null,
   "metadata": {
    "scrolled": false
   },
   "outputs": [],
   "source": [
    "source = [f for f, in conn.execute(f\"SELECT f FROM image WHERE n=(SELECT MAX(n) FROM image)\").fetchall()]\n",
    "show = widgets.Image(value=from_db(source[0]))\n",
    "play = widgets.Play(\n",
    "    interval=1/fps,\n",
    "    value=0,\n",
    "    min=0,\n",
    "    max=len(source)-1,\n",
    "    step=1,\n",
    "    description=\"Press play\",\n",
    "    disabled=False\n",
    ")\n",
    "slider = widgets.IntSlider(min=0, max=len(source)-1)\n",
    "widgets.jslink((play, 'value'), (slider, 'value'))\n",
    "def load_frame(change):\n",
    "    show.value = from_db(source[change['new']])\n",
    "slider.observe(load_frame, names='value')\n",
    "control = widgets.HBox([play, slider])\n",
    "#widgets.VBox([show, control])\n",
    "display(show)\n",
    "display(control)\n",
    "start = widgets.IntSlider(min=0, max=len(source)-1, step=1, value=0)\n",
    "end = widgets.IntSlider(min=0.0, max=len(source)-1, step=1, value=len(source)-1)\n",
    "time_step = widgets.FloatSlider(min=0.0, max=1.0, step=0.01, value=1/fps)\n",
    "@interact(start=start, end=end, time_step=time_step)\n",
    "def f(start, end, time_step):\n",
    "    play.min = start\n",
    "    play.max = end\n",
    "    play.interval = time_step*1000"
   ]
  },
  {
   "cell_type": "markdown",
   "metadata": {},
   "source": [
    "# Save to disk"
   ]
  },
  {
   "cell_type": "markdown",
   "metadata": {},
   "source": [
    "## First, a master copy in mp4 format. Can be used with GifV."
   ]
  },
  {
   "cell_type": "code",
   "execution_count": null,
   "metadata": {},
   "outputs": [],
   "source": [
    "writer = imageio.get_writer('loop.mp4', fps=fps)\n",
    "\n",
    "for f, in conn.execute(f\"SELECT f FROM image WHERE n=(SELECT MAX(n) FROM image)\").fetchall():\n",
    "    writer.append_data(as_array(from_db(f,0)))\n",
    "writer.close()"
   ]
  },
  {
   "cell_type": "markdown",
   "metadata": {},
   "source": [
    "## Also, WebP, because it's better than gif in pretty much every way."
   ]
  },
  {
   "cell_type": "code",
   "execution_count": null,
   "metadata": {},
   "outputs": [],
   "source": [
    "# Gifs kind of suck. I suggest webp, if this returns true.\n",
    "from PIL import features\n",
    "features.check(\"webp_anim\")"
   ]
  },
  {
   "cell_type": "code",
   "execution_count": null,
   "metadata": {},
   "outputs": [],
   "source": [
    "source = [f for f, in conn.execute(f\"SELECT f FROM image WHERE n=(SELECT MAX(n) FROM image)\").fetchall()]\n",
    "frames = (Image.open(BytesIO(from_db(im))).convert('RGBA') for im in source)\n",
    "first = next(frames)\n",
    "x,y = first.size\n",
    "tosave = Image.new('RGBA', (x,y))\n",
    "tosave.paste(first, (0,0,x,y), first)\n",
    "tosave.save('output2.webp', save_all=True, append_images=frames, duration=int(1000/fps), loop=0)"
   ]
  },
  {
   "cell_type": "code",
   "execution_count": null,
   "metadata": {},
   "outputs": [],
   "source": [
    "# Save for web. Play with quality vs resize here.\n",
    "resize = 25 #%\n",
    "quality = 80\n",
    "source = [f for f, in conn.execute(f\"SELECT f FROM image WHERE n=(SELECT MAX(n) FROM image)\").fetchall()]\n",
    "x, y = Image.open(BytesIO(from_db(source[0]))).convert('RGBA').size\n",
    "x //= 100/resize\n",
    "y //= 100/resize\n",
    "x, y = int(x), int(y)\n",
    "source = [f for f, in conn.execute(f\"SELECT f FROM image WHERE n=(SELECT MAX(n) FROM image)\").fetchall()]\n",
    "frames = (Image.open(BytesIO(from_db(im))).convert('RGBA').resize((x,y), Image.ANTIALIAS) for im in source)\n",
    "first = next(frames)\n",
    "tosave = Image.new('RGBA', (x,y))\n",
    "tosave.paste(first, (0,0,x,y), first)\n",
    "tosave.save(f'output-{resize}-{quality}.webp', save_all=True, append_images=frames, quality=quality, duration=int(1000/fps), loop=0)"
   ]
  },
  {
   "cell_type": "markdown",
   "metadata": {},
   "source": [
    "# If you really want a gif, you'll have to do it this way:"
   ]
  },
  {
   "cell_type": "code",
   "execution_count": null,
   "metadata": {},
   "outputs": [],
   "source": [
    "writer = imageio.get_writer('loop.gif',fps=int(fps))\n",
    "\n",
    "for im in source3:\n",
    "    writer.append_data(cv2.cvtColor(cv2.imdecode(np.frombuffer(im, np.uint8), cv2.IMREAD_ANYCOLOR), cv2.COLOR_RGBA2BGR))\n",
    "\n",
    "writer.close()"
   ]
  },
  {
   "cell_type": "markdown",
   "metadata": {},
   "source": [
    "# At a minimum, you should save a MP4\n",
    "They're smaller and less lossy. And you can use the below to create a gif from them."
   ]
  },
  {
   "cell_type": "code",
   "execution_count": null,
   "metadata": {},
   "outputs": [],
   "source": [
    "import imageio\n",
    "import numpy as np\n",
    "reader = imageio.get_reader(\"loop.mp4\", 'ffmpeg')\n",
    "writer = imageio.get_writer('loop.gif',fps=reader.get_meta_data()['fps'])\n",
    "\n",
    "print(\"Frames processed:\", 0, end='\\r')\n",
    "for index, frame in enumerate(reader):\n",
    "    x,y = frame.size\n",
    "    writer.append_data(np.array(frame))\n",
    "    print(\"Frames processed:\", index+1, end='\\r')\n",
    "writer.close()"
   ]
  }
 ],
 "metadata": {
  "kernelspec": {
   "display_name": "Python 3",
   "language": "python",
   "name": "python3"
  },
  "language_info": {
   "codemirror_mode": {
    "name": "ipython",
    "version": 3
   },
   "file_extension": ".py",
   "mimetype": "text/x-python",
   "name": "python",
   "nbconvert_exporter": "python",
   "pygments_lexer": "ipython3",
   "version": "3.6.8"
  }
 },
 "nbformat": 4,
 "nbformat_minor": 2
}
