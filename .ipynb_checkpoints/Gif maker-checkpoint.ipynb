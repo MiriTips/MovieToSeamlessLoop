{
 "cells": [
  {
   "cell_type": "markdown",
   "metadata": {},
   "source": [
    "# Load video/gif"
   ]
  },
  {
   "cell_type": "code",
   "execution_count": null,
   "metadata": {},
   "outputs": [],
   "source": [
    "import imageio\n",
    "import cv2"
   ]
  },
  {
   "cell_type": "code",
   "execution_count": null,
   "metadata": {},
   "outputs": [],
   "source": [
    "from imageio.core import CannotReadFrameError\n",
    "#source = imageio.mimread(\"20181107_152058.gif\")\n",
    "try:\n",
    "    # Edit the below to properly load your video.\n",
    "    reader = imageio.get_reader(r\"VID_20160817_035323.mp4\", 'ffmpeg')\n",
    "    fps = reader.get_meta_data()['fps']\n",
    "    source = []\n",
    "    for i,im in enumerate(reader):\n",
    "        # JPEG at the default .95 is sufficient for my purposes.\n",
    "        # If you want better, you can pass in quality parameters to the imencode call, or switch formats.\n",
    "        source.append(cv2.imencode('.jpg',cv2.cvtColor(im, cv2.COLOR_RGBA2BGR))[1].tostring())\n",
    "        print(i*100/len(reader), end='%                      \\r')\n",
    "    print(\"100%                      \")\n",
    "except CannotReadFrameError:\n",
    "    print(\"Read\", i, \"of\", len(reader), \"frames. This may be enough for what we want.\")"
   ]
  },
  {
   "cell_type": "code",
   "execution_count": null,
   "metadata": {},
   "outputs": [],
   "source": [
    "orig_len = len(source)\n",
    "orig_len, fps"
   ]
  },
  {
   "cell_type": "code",
   "execution_count": null,
   "metadata": {},
   "outputs": [],
   "source": [
    "# A few of my videos got artificially upsampled with duplicate frames. No idea why.\n",
    "# It's pretty uniform, so this is a sufficient fix.\n",
    "source = [source[i] for i in range(len(source)-1) if source[i] != source[i+1]]"
   ]
  },
  {
   "cell_type": "code",
   "execution_count": null,
   "metadata": {},
   "outputs": [],
   "source": [
    "# Update the fps for when we write it back.\n",
    "deduplicated_len = len(source)\n",
    "deduplicated_fps = deduplicated_len*fps/orig_len\n",
    "deduplicated_len, deduplicated_fps"
   ]
  },
  {
   "cell_type": "markdown",
   "metadata": {},
   "source": [
    "# Inspect for duplicates (optional)"
   ]
  },
  {
   "cell_type": "code",
   "execution_count": null,
   "metadata": {},
   "outputs": [],
   "source": [
    "import numpy as np\n",
    "from PIL import Image\n",
    "from io import BytesIO\n",
    "\n",
    "downsize_shape = (100, 100)\n",
    "\n",
    "images_downsized = [np.array(Image.open(BytesIO(im)).resize(downsize_shape)) for im in source]"
   ]
  },
  {
   "cell_type": "code",
   "execution_count": null,
   "metadata": {},
   "outputs": [],
   "source": [
    "from scipy.spatial.distance import pdist\n",
    "differences = pdist(np.reshape(images_downsized, [len(images_downsized), -1]))"
   ]
  },
  {
   "cell_type": "code",
   "execution_count": null,
   "metadata": {},
   "outputs": [],
   "source": [
    "%matplotlib inline\n",
    "from matplotlib import pyplot as plt"
   ]
  },
  {
   "cell_type": "code",
   "execution_count": null,
   "metadata": {},
   "outputs": [],
   "source": [
    "from scipy.spatial.distance import squareform\n",
    "plt.imshow(squareform(differences))"
   ]
  },
  {
   "cell_type": "code",
   "execution_count": null,
   "metadata": {},
   "outputs": [],
   "source": [
    "test = squareform(differences)\n",
    "result = test.copy()\n",
    "result[:-1][test[:-1] > test[1:]] = 0\n",
    "result[1:][test[:-1] < test[1:]] = 0\n",
    "result[:,:-1][test[:,:-1] > test[:,1:]] = 0\n",
    "result[:,1:][test[:,:-1] < test[:,1:]] = 0\n",
    "\n",
    "plt.imshow(result)"
   ]
  },
  {
   "cell_type": "code",
   "execution_count": null,
   "metadata": {},
   "outputs": [],
   "source": [
    "(result!=0).sum()"
   ]
  },
  {
   "cell_type": "code",
   "execution_count": null,
   "metadata": {},
   "outputs": [],
   "source": [
    "indices = np.nonzero(result)\n",
    "np.nonzero(np.min(result[indices])==result)"
   ]
  },
  {
   "cell_type": "markdown",
   "metadata": {},
   "source": [
    "# Trim video to relevant frames\n",
    "I recommend leaving a few past the section where a loop is to be searched for."
   ]
  },
  {
   "cell_type": "code",
   "execution_count": null,
   "metadata": {},
   "outputs": [],
   "source": [
    "from ipywidgets import interact, interactive, fixed\n",
    "import ipywidgets as widgets"
   ]
  },
  {
   "cell_type": "code",
   "execution_count": null,
   "metadata": {
    "scrolled": false
   },
   "outputs": [],
   "source": [
    "show = widgets.Image(value=source[0])\n",
    "play = widgets.Play(\n",
    "    interval=1/fps,\n",
    "    value=0,\n",
    "    min=0,\n",
    "    max=len(source)-1,\n",
    "    step=1,\n",
    "    description=\"Press play\",\n",
    "    disabled=False\n",
    ")\n",
    "slider = widgets.IntSlider(min=0, max=len(source)-1)\n",
    "widgets.jslink((play, 'value'), (slider, 'value'))\n",
    "def load_frame(change):\n",
    "    show.value = source[change['new']]\n",
    "slider.observe(load_frame, names='value')\n",
    "control = widgets.HBox([play, slider])\n",
    "#widgets.VBox([show, control])\n",
    "display(show)\n",
    "display(control)\n",
    "start = widgets.IntSlider(min=0, max=len(source)-1, step=1, value=0)\n",
    "end = widgets.IntSlider(min=0.0, max=len(source)-1, step=1, value=len(source)-1)\n",
    "time_step = widgets.FloatSlider(min=0.0, max=1.0, step=0.01, value=1000/fps)\n",
    "@interact(start=start, end=end, time_step=time_step)\n",
    "def f(start, end, time_step):\n",
    "    play.min = start\n",
    "    play.max = end\n",
    "    play.interval = time_step*1000"
   ]
  },
  {
   "cell_type": "markdown",
   "metadata": {},
   "source": [
    "# AFTER getting the indices correct above, run the below to look for loops"
   ]
  },
  {
   "cell_type": "code",
   "execution_count": null,
   "metadata": {},
   "outputs": [],
   "source": [
    "source2 = source[play.min:play.max]"
   ]
  },
  {
   "cell_type": "code",
   "execution_count": null,
   "metadata": {},
   "outputs": [],
   "source": [
    "%matplotlib inline\n",
    "from matplotlib import pyplot as plt\n",
    "import numpy as np\n",
    "from PIL import Image\n",
    "from io import BytesIO\n",
    "from scipy.spatial.distance import pdist, squareform\n",
    "\n",
    "images_downsized2 = [np.array(Image.open(BytesIO(im)).resize(downsize_shape)) for im in source2]\n",
    "differences2 = pdist(np.reshape(images_downsized2, [len(images_downsized2), -1]))\n",
    "plt.imshow(squareform(differences2))"
   ]
  },
  {
   "cell_type": "code",
   "execution_count": null,
   "metadata": {},
   "outputs": [],
   "source": [
    "# Suppress local non-minima\n",
    "test = squareform(differences2)\n",
    "result = test.copy()\n",
    "result[:-1][test[:-1] > test[1:]] = 0\n",
    "result[1:][test[:-1] < test[1:]] = 0\n",
    "result[:,:-1][test[:,:-1] > test[:,1:]] = 0\n",
    "result[:,1:][test[:,:-1] < test[:,1:]] = 0\n",
    "\n",
    "plt.imshow(result)"
   ]
  },
  {
   "cell_type": "code",
   "execution_count": null,
   "metadata": {},
   "outputs": [],
   "source": [
    "(result!=0).sum()"
   ]
  },
  {
   "cell_type": "code",
   "execution_count": null,
   "metadata": {},
   "outputs": [],
   "source": [
    "# Trim suggestions to be between the below parameters (Set them how you want it)\n",
    "max_gif_len = 600 # max: trimmed length\n",
    "min_gif_len = 40 # min: 1 (not suggested)\n",
    "mask = np.array([[min_gif_len<j-i<max_gif_len for j in range(len(source2))] for i in range(len(source2))])\n",
    "result_trimmed = result.copy()*mask\n",
    "plt.imshow(result_trimmed)"
   ]
  },
  {
   "cell_type": "code",
   "execution_count": null,
   "metadata": {},
   "outputs": [],
   "source": [
    "# Pull out the best match and try it.\n",
    "nonzeros = np.nonzero(result_trimmed)\n",
    "local_mins = result_trimmed[nonzeros]\n",
    "minimum_change = np.argmin(local_mins)\n",
    "nonzeros[0][minimum_change], nonzeros[1][minimum_change]"
   ]
  },
  {
   "cell_type": "markdown",
   "metadata": {},
   "source": [
    "# Examine results"
   ]
  },
  {
   "cell_type": "code",
   "execution_count": null,
   "metadata": {
    "scrolled": false
   },
   "outputs": [],
   "source": [
    "source3 = source2[nonzeros[0][minimum_change]:nonzeros[1][minimum_change]]\n",
    "show2 = widgets.Image(value=source3[0])\n",
    "play2 = widgets.Play(\n",
    "    interval=1000/fps,\n",
    "    value=0,\n",
    "    min=0,\n",
    "    max=len(source3)-1,\n",
    "    step=1,\n",
    "    description=\"Press play\",\n",
    "    disabled=False\n",
    ")\n",
    "slider2 = widgets.IntSlider(min=0, max=len(source3)-1)\n",
    "widgets.jslink((play2, 'value'), (slider2, 'value'))\n",
    "def load_frame2(change):\n",
    "    show2.value = source3[change['new']]\n",
    "slider2.observe(load_frame2, names='value')\n",
    "control2 = widgets.HBox([play2, slider2])\n",
    "#widgets.VBox([show, control])\n",
    "display(show2)\n",
    "display(control2)\n",
    "start2 = widgets.IntSlider(min=0, max=len(source3)-1, step=1, value=0)\n",
    "end2 = widgets.IntSlider(min=0.0, max=len(source3)-1, step=1, value=len(source3)-1)\n",
    "time_step2 = widgets.FloatSlider(min=0.0, max=1.0, step=0.01, value=1000/fps)\n",
    "@interact(start=start2, end=end2, time_step=time_step2)\n",
    "def f(start, end, time_step):\n",
    "    play2.min = start\n",
    "    play2.max = end\n",
    "    play2.interval = time_step*1000"
   ]
  },
  {
   "cell_type": "markdown",
   "metadata": {},
   "source": [
    "# Save to disk"
   ]
  },
  {
   "cell_type": "code",
   "execution_count": null,
   "metadata": {},
   "outputs": [],
   "source": [
    "# Gifs kind of suck. I suggest webp, if this returns true.\n",
    "from PIL import features\n",
    "features.check(\"webp_anim\")"
   ]
  },
  {
   "cell_type": "code",
   "execution_count": null,
   "metadata": {},
   "outputs": [],
   "source": [
    "frames = [Image.open(BytesIO(im)).convert('RGBA') for im in source3]\n",
    "x,y = frames[0].size\n",
    "tosave = Image.new('RGBA', (x,y))\n",
    "tosave.paste(frames[0], (0,0,x,y), frames[0])\n",
    "tosave.save('output.webp', save_all=True, append_images=frames[1:], duration=int(1000/deduplicated_fps), loop=0)"
   ]
  },
  {
   "cell_type": "markdown",
   "metadata": {},
   "source": [
    "# If you really want a gif, you'll have to do it this way:"
   ]
  },
  {
   "cell_type": "code",
   "execution_count": null,
   "metadata": {},
   "outputs": [],
   "source": [
    "writer = imageio.get_writer('output.gif',fps=int(deduplicated_fps))\n",
    "\n",
    "for im in source3:\n",
    "    writer.append_data(cv2.cvtColor(cv2.imdecode(np.fromstring(im, np.uint8), cv2.IMREAD_ANYCOLOR), cv2.COLOR_RGBA2BGR))\n",
    "\n",
    "writer.close()"
   ]
  },
  {
   "cell_type": "markdown",
   "metadata": {},
   "source": [
    "# At a minimum, you should save a WebP\n",
    "They're smaller and less lossy. And you can use the below to create a gif from them."
   ]
  },
  {
   "cell_type": "code",
   "execution_count": null,
   "metadata": {},
   "outputs": [],
   "source": [
    "import imageio\n",
    "import numpy as np\n",
    "from PIL import Image\n",
    "old_im = Image.open(\"image.webp\")\n",
    "writer = imageio.get_writer('image.gif',fps=int(30))\n",
    "try:\n",
    "    seek = 0\n",
    "    while True:\n",
    "        old_im.seek(seek)\n",
    "        writer.append_data(np.array(old_im))\n",
    "        seek += 1\n",
    "except EOFError: pass\n",
    "writer.close()"
   ]
  }
 ],
 "metadata": {
  "kernelspec": {
   "display_name": "Python 3",
   "language": "python",
   "name": "python3"
  },
  "language_info": {
   "codemirror_mode": {
    "name": "ipython",
    "version": 3
   },
   "file_extension": ".py",
   "mimetype": "text/x-python",
   "name": "python",
   "nbconvert_exporter": "python",
   "pygments_lexer": "ipython3",
   "version": "3.6.4"
  }
 },
 "nbformat": 4,
 "nbformat_minor": 2
}
